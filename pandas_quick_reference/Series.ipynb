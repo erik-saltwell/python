{
 "cells": [
  {
   "cell_type": "markdown",
   "metadata": {},
   "source": [
    "# Series Object\n",
    "A single column data frame + index"
   ]
  },
  {
   "cell_type": "code",
   "execution_count": 1,
   "metadata": {},
   "outputs": [],
   "source": [
    "import pandas as pd"
   ]
  },
  {
   "cell_type": "code",
   "execution_count": 2,
   "metadata": {},
   "outputs": [
    {
     "data": {
      "text/plain": [
       "John      45\n",
       "Paul      95\n",
       "George    35\n",
       "Ringo     46\n",
       "Name: beattles songs by author, dtype: int64"
      ]
     },
     "execution_count": 2,
     "metadata": {},
     "output_type": "execute_result"
    }
   ],
   "source": [
    "# Creation in code (implicit int index)\n",
    "beattles = pd.Series(['John', 'Paul', 'George', 'Ringo'], name='beattles')\n",
    "\n",
    "#Creation with explicit index\n",
    "beattles_songs_by_author = pd.Series([45,95,35,46], index= ['John', 'Paul', 'George', 'Ringo'], name='beattles songs by author')\n",
    "beattles_songs_by_author"
   ]
  },
  {
   "cell_type": "code",
   "execution_count": 3,
   "metadata": {},
   "outputs": [
    {
     "name": "stdout",
     "output_type": "stream",
     "text": [
      "45\n",
      "\n",
      "-1\n",
      "\n",
      "Paul     95\n",
      "Ringo    46\n",
      "Name: beattles songs by author, dtype: int64\n",
      "\n",
      "46\n"
     ]
    }
   ],
   "source": [
    "# Accessing values by index label\n",
    "beattles_songs_by_author = pd.Series([45,95,35,46], index= ['John', 'Paul', 'George', 'Ringo'], name='beattles songs by author')\n",
    "beattles_songs_by_author.loc['George']\n",
    "\n",
    "# Accessing values by index position (int)\n",
    "print( beattles_songs_by_author.iloc[0] )\n",
    "print()\n",
    "\n",
    "#get value, or return a default value (here -1) if not found\n",
    "print( beattles_songs_by_author.get('Eric', -1) )\n",
    "print()\n",
    "#iloc can be used to slice per normal pythonn\n",
    "print ( beattles_songs_by_author.iloc[1::2] )\n",
    "print()\n",
    "#accessing last item\n",
    "print( beattles_songs_by_author.iloc[-1] )\n"
   ]
  },
  {
   "cell_type": "code",
   "execution_count": 4,
   "metadata": {},
   "outputs": [
    {
     "name": "stdout",
     "output_type": "stream",
     "text": [
      "True\n",
      "False\n"
     ]
    }
   ],
   "source": [
    "beattles_songs_by_author = pd.Series([45,95,35,46], index= ['John', 'Paul', 'George', 'Ringo'], name='beattles songs by author')\n",
    "\n",
    "# Check if Series contains an index label\n",
    "print('Ringo' in beattles_songs_by_author)\n",
    "\n",
    "# Check if Series contains a value\n",
    "print(1200 in beattles_songs_by_author.values)"
   ]
  },
  {
   "cell_type": "code",
   "execution_count": 5,
   "metadata": {},
   "outputs": [
    {
     "name": "stdout",
     "output_type": "stream",
     "text": [
      "45\n",
      "95\n",
      "35\n",
      "46\n",
      "\n",
      "John:45\n",
      "Paul:95\n",
      "George:35\n",
      "Ringo:46\n",
      "\n",
      "John\n",
      "Paul\n",
      "George\n",
      "Ringo\n"
     ]
    }
   ],
   "source": [
    "#iterating over only the series values\n",
    "beattles_songs_by_author = pd.Series([45,95,35,46], index= ['John', 'Paul', 'George', 'Ringo'], name='beattles songs by author')\n",
    "for song_count in beattles_songs_by_author:\n",
    "    print(song_count)\n",
    "print()\n",
    "#iterating over index labels AND series values\n",
    "for author, song_count in beattles_songs_by_author.items():\n",
    "    print(\"{}:{}\".format(author,song_count))\n",
    "print()\n",
    "#iterating through index labels only\n",
    "for author in beattles_songs_by_author.keys():\n",
    "    print(author)"
   ]
  },
  {
   "cell_type": "code",
   "execution_count": 6,
   "metadata": {},
   "outputs": [
    {
     "name": "stdout",
     "output_type": "stream",
     "text": [
      "John      45\n",
      "George    34\n",
      "Steve     23\n",
      "Name: beattles songs by author, dtype: int64\n",
      "\n",
      "John       True\n",
      "Paul      False\n",
      "George     True\n",
      "Ringo     False\n",
      "Eric      False\n",
      "Steve      True\n",
      "Name: beattles songs by author, dtype: bool\n",
      "\n",
      "John      45\n",
      "George    34\n",
      "Steve     23\n",
      "Name: beattles songs by author, dtype: int64\n",
      "\n",
      "big writers\n",
      "Paul     95\n",
      "Ringo    46\n",
      "Eric     90\n",
      "Name: beattles songs by author, dtype: int64\n",
      "\n",
      "even low writers\n"
     ]
    },
    {
     "data": {
      "text/plain": [
       "George    34\n",
       "Name: beattles songs by author, dtype: int64"
      ]
     },
     "execution_count": 6,
     "metadata": {},
     "output_type": "execute_result"
    }
   ],
   "source": [
    "# filtering by boolean array\n",
    "beattles_songs_by_author = pd.Series([45,95,34,46,90, 23], index= ['John', 'Paul', 'George', 'Ringo', 'Eric', 'Steve'], name='beattles songs by author')\n",
    "low_writers = beattles_songs_by_author[beattles_songs_by_author < beattles_songs_by_author.median()]\n",
    "print(low_writers)\n",
    "print()\n",
    "\n",
    "#this is equivalent but more explicit.\n",
    "bool_array_mask = beattles_songs_by_author < beattles_songs_by_author.median()\n",
    "print(bool_array_mask)\n",
    "print()\n",
    "low_writers = beattles_songs_by_author[bool_array_mask]\n",
    "print(low_writers)\n",
    "print()\n",
    "\n",
    "#inverse of a mask\n",
    "print('big writers')\n",
    "print(beattles_songs_by_author[~bool_array_mask])\n",
    "print()\n",
    "#you can combine boolean arrays with logical operators\n",
    "print('even low writers')\n",
    "beattles_songs_by_author[ bool_array_mask & (beattles_songs_by_author % 2 ==0) ]  #this line will give wrong results without ()\n"
   ]
  },
  {
   "cell_type": "code",
   "execution_count": 7,
   "metadata": {},
   "outputs": [
    {
     "name": "stdout",
     "output_type": "stream",
     "text": [
      "Paul      95\n",
      "George    34\n",
      "Ringo     46\n",
      "Name: beattles songs by author, dtype: int64\n",
      "Paul        95\n",
      "George      34\n",
      "Ringo       46\n",
      "Eric      1000\n",
      "Steve        2\n",
      "dtype: int64\n",
      "\n",
      "Paul        95\n",
      "George      34\n",
      "Ringo       46\n",
      "Eric      1000\n",
      "Steve        2\n",
      "John      2000\n",
      "dtype: int64\n"
     ]
    }
   ],
   "source": [
    "#Simple data update/append/delete\n",
    "beattles_songs_by_author = pd.Series([45,95,34,46], index= ['John', 'Paul', 'George', 'Ringo'], name='beattles songs by author')\n",
    "\n",
    "del beattles_songs_by_author['John'] #in practice this is usually done by filtering the row out, not deleting in place\n",
    "print(beattles_songs_by_author)\n",
    "\n",
    "#add a new row, two ways\n",
    "new_beattles = pd.concat([beattles_songs_by_author, pd.Series([1000],['Eric'])])\n",
    "new_beattles[\"Steve\"]=2\n",
    "print(new_beattles)\n",
    "print()\n",
    "\n",
    "#two ways to set a value in place\n",
    "new_beattles[\"John\"]=2000\n",
    "print(new_beattles)\n"
   ]
  },
  {
   "cell_type": "code",
   "execution_count": 8,
   "metadata": {},
   "outputs": [
    {
     "name": "stdout",
     "output_type": "stream",
     "text": [
      "songs written by each beattle +1\n",
      "John      46\n",
      "Paul      96\n",
      "George    36\n",
      "Ringo     47\n",
      "Name: beattles songs by author, dtype: int64\n",
      "\n",
      "Songs per beattle*100\n",
      "John      4500\n",
      "Paul      9500\n",
      "George    3500\n",
      "Ringo     4600\n",
      "Name: beattles songs by author, dtype: int64\n",
      "\n",
      "John      45.0\n",
      "Paul      95.0\n",
      "George    35.0\n",
      "Ringo     46.0\n",
      "Name: beattles songs by author, dtype: float64\n"
     ]
    }
   ],
   "source": [
    "#broadcast math operations\n",
    "beattles_songs_by_author = pd.Series([45,95,35,46], index= ['John', 'Paul', 'George', 'Ringo'], name='beattles songs by author')\n",
    "print('songs written by each beattle +1')\n",
    "print( beattles_songs_by_author+1)\n",
    "print()\n",
    "\n",
    "print('Songs per beattle*100')\n",
    "print (beattles_songs_by_author*100) #and so on for other math operations\n",
    "print()\n",
    "\n",
    "#broadcast rounding\n",
    "beattles_songs_by_author_decimals = beattles_songs_by_author * 1.00109\n",
    "print (beattles_songs_by_author_decimals.round())\n"
   ]
  },
  {
   "cell_type": "code",
   "execution_count": 9,
   "metadata": {},
   "outputs": [
    {
     "name": "stdout",
     "output_type": "stream",
     "text": [
      "0    4\n",
      "1    4\n",
      "2    6\n",
      "3    5\n",
      "Name: beattles, dtype: int64\n",
      "0      john\n",
      "1      paul\n",
      "2    george\n",
      "3     ringo\n",
      "Name: beattles, dtype: object\n",
      "0      John\n",
      "1      Paul\n",
      "2    George\n",
      "3     Ringo\n",
      "Name: beattles, dtype: object\n",
      "0      Xohn\n",
      "1      Paul\n",
      "2    George\n",
      "3     Ringo\n",
      "Name: beattles, dtype: object\n"
     ]
    }
   ],
   "source": [
    "#broadcast for strings\n",
    "beattles = pd.Series(['John', 'Paul', 'George', 'Ringo'], name='beattles')\n",
    "print(beattles.str.len())\n",
    "print(beattles.str.lower())\n",
    "print(beattles.str.strip())\n",
    "print(beattles.str.replace('J', 'X'))"
   ]
  },
  {
   "cell_type": "code",
   "execution_count": 19,
   "metadata": {},
   "outputs": [
    {
     "name": "stdout",
     "output_type": "stream",
     "text": [
      "John      45000\n",
      "Paul      95000\n",
      "George    35000\n",
      "Ringo     46000\n",
      "Name: beattles songs by author, dtype: int64\n"
     ]
    }
   ],
   "source": [
    "#map, the ultimate broadcast.   returns a new series resulting from applying a function to all values\n",
    "beattles_songs_by_author = pd.Series([45,95,35,46], index= ['John', 'Paul', 'George', 'Ringo'], name='beattles songs by author')\n",
    "def make_productive(x):\n",
    "    return x* 1000\n",
    "\n",
    "print(beattles_songs_by_author.map(make_productive))\n",
    "\n",
    "\n"
   ]
  },
  {
   "cell_type": "code",
   "execution_count": 10,
   "metadata": {},
   "outputs": [
    {
     "data": {
      "text/plain": [
       "John      45\n",
       "Paul      95\n",
       "George    35\n",
       "Ringo     46\n",
       "Name: beattles songs by author, dtype: object"
      ]
     },
     "execution_count": 10,
     "metadata": {},
     "output_type": "execute_result"
    }
   ],
   "source": [
    "#converting series data types\n",
    "beattles_songs_by_author = pd.Series([45,95,35,46], index= ['John', 'Paul', 'George', 'Ringo'], name='beattles songs by author')\n",
    "beattles_songs_by_author.astype(str)\n"
   ]
  },
  {
   "cell_type": "code",
   "execution_count": 25,
   "metadata": {},
   "outputs": [
    {
     "name": "stdout",
     "output_type": "stream",
     "text": [
      "0    45\n",
      "1    95\n",
      "2    35\n",
      "3    46\n",
      "Name: beattles songs by author, dtype: int64\n",
      "\n",
      "Ringo     46\n",
      "George    35\n",
      "John      45\n",
      "Paul      95\n",
      "Name: beattles songs by author, dtype: int64\n",
      "\n",
      "John      45\n",
      "Paul      95\n",
      "George    35\n",
      "Bozo      46\n",
      "Name: beattles songs by author, dtype: int64\n",
      "\n",
      "john      45\n",
      "paul      95\n",
      "george    35\n",
      "ringo     46\n",
      "Name: beattles songs by author, dtype: int64\n"
     ]
    }
   ],
   "source": [
    "#index manipulation functions\n",
    "beattles_songs_by_author = pd.Series([45,95,35,46], index= ['John', 'Paul', 'George', 'Ringo'], name='beattles songs by author')\n",
    "\n",
    "#reset to a monotonously increasing integer index - the default one.\n",
    "print(beattles_songs_by_author.reset_index(drop=True)) #drop means to drop the index, not convert to an extra column in a DataFrame\n",
    "print()\n",
    "#re-order row by new index\n",
    "print(beattles_songs_by_author.reindex(['Ringo', 'George', 'John', 'Paul']))\n",
    "print()\n",
    "\n",
    "\n",
    "#rename indexes using dictionary\n",
    "print(beattles_songs_by_author.rename({'Ringo': 'Bozo'}))\n",
    "print()\n",
    "\n",
    "#rename indexes using a lambda\n",
    "print(beattles_songs_by_author.rename(lambda x : x.lower()))"
   ]
  },
  {
   "cell_type": "code",
   "execution_count": 11,
   "metadata": {},
   "outputs": [
    {
     "name": "stdout",
     "output_type": "stream",
     "text": [
      "George       33.0\n",
      "John      66645.0\n",
      "Keith         8.0\n",
      "Paul         94.0\n",
      "Pete          3.0\n",
      "Ringo        45.0\n",
      "Roger         2.0\n",
      "dtype: float64\n",
      "\n",
      "John      222.5\n",
      "Paul      497.5\n",
      "George    167.0\n",
      "Ringo     323.0\n",
      "Name: beattles songs by author, dtype: float64\n",
      "\n",
      "John      66600\n",
      "Paul         95\n",
      "George       34\n",
      "Ringo        46\n",
      "Name: beattles songs by author, dtype: int64\n"
     ]
    }
   ],
   "source": [
    "#Merging or updating based on two series.\n",
    "beattles_songs_by_author = pd.Series([45,95,34,46], index= ['John', 'Paul', 'George', 'Ringo'], name='beattles songs by author')\n",
    "really_productive_beattles = pd.Series([400,900,300,600], index= ['John', 'Paul', 'George', 'Ringo'], name='beattles songs by author')\n",
    "\n",
    "the_who = pd.Series([4,9,3,66600], index= ['Pete', 'Keith', 'Roger', 'John'], name='the who songs by author')\n",
    "\n",
    "#append one series on another\n",
    "super_band = beattles_songs_by_author.add(the_who, fill_value=-1)\n",
    "print(super_band)\n",
    "print()\n",
    "\n",
    "#use one series to update the value in another series using a custom function\n",
    "def avg_productivity(v1, v2):\n",
    "    return (v1+v2)/2\n",
    "\n",
    "print( beattles_songs_by_author.combine(really_productive_beattles, avg_productivity) )\n",
    "print()\n",
    "\n",
    "#update the values in one index with the values in another.\n",
    "beattles_songs_by_author.update(the_who)\n",
    "print(beattles_songs_by_author)\n"
   ]
  },
  {
   "cell_type": "code",
   "execution_count": 12,
   "metadata": {},
   "outputs": [
    {
     "name": "stdout",
     "output_type": "stream",
     "text": [
      "333\n",
      "55.5\n",
      "45.5\n",
      "34.0\n",
      "95\n",
      "29.898160478531118\n",
      "893.9\n",
      "\n",
      "count     6.00000\n",
      "mean     55.50000\n",
      "std      29.89816\n",
      "min      23.00000\n",
      "25%      36.75000\n",
      "50%      45.50000\n",
      "75%      79.00000\n",
      "max      95.00000\n",
      "Name: beattles songs by author, dtype: float64\n"
     ]
    }
   ],
   "source": [
    "# Descriptive Statistics\n",
    "beattles_songs_by_author = pd.Series([45,95,34,46,90, 23], index= ['John', 'Paul', 'George', 'Ringo', 'Eric', 'Steve'], name='beattles songs by author')\n",
    "print(beattles_songs_by_author.sum())\n",
    "print(beattles_songs_by_author.mean())\n",
    "print(beattles_songs_by_author.median())\n",
    "print(beattles_songs_by_author.quantile(.2))\n",
    "print(beattles_songs_by_author.max())\n",
    "print(beattles_songs_by_author.std())\n",
    "print(beattles_songs_by_author.var()) # variance\n",
    "print()\n",
    "print(beattles_songs_by_author.describe())"
   ]
  },
  {
   "cell_type": "code",
   "execution_count": 13,
   "metadata": {},
   "outputs": [
    {
     "name": "stdout",
     "output_type": "stream",
     "text": [
      "any duplicate indexes?\n",
      "False\n",
      "John      False\n",
      "John      False\n",
      "George     True\n",
      "Ringo     False\n",
      "Name: beattles songs by author, dtype: bool\n",
      "\n",
      "John     34\n",
      "John     95\n",
      "Ringo    17\n",
      "Name: beattles songs by author, dtype: int64\n",
      "\n",
      "<bound method Series.unique of John      34\n",
      "John      95\n",
      "George    34\n",
      "Ringo     17\n",
      "Name: beattles songs by author, dtype: int64>\n",
      "\n"
     ]
    }
   ],
   "source": [
    "#duplicate handling\n",
    "beattles_songs_by_author = pd.Series([34,95,34,17], index= ['John', 'John', 'George', 'Ringo'], name='beattles songs by author')\n",
    "\n",
    "#check if any duplicate indexes exist\n",
    "print('any duplicate indexes?')\n",
    "print(beattles_songs_by_author.is_unique)\n",
    "\n",
    "#print out if values are duplicated\n",
    "\n",
    "print(beattles_songs_by_author.duplicated())\n",
    "print()\n",
    "\n",
    "#drop duplicate values\n",
    "print(beattles_songs_by_author.drop_duplicates())\n",
    "print()\n",
    "\n",
    "#return unique values\n",
    "print(beattles_songs_by_author.unique)\n",
    "print()\n"
   ]
  },
  {
   "cell_type": "code",
   "execution_count": 14,
   "metadata": {},
   "outputs": [
    {
     "name": "stdout",
     "output_type": "stream",
     "text": [
      "John      45.0\n",
      "Paul      95.0\n",
      "George    34.0\n",
      "Name: beattles songs by author, dtype: float64\n",
      "\n",
      "NA replaced by negative one\n",
      "John      45.0\n",
      "Paul      95.0\n",
      "George    34.0\n",
      "Ringo      0.0\n",
      "Name: beattles songs by author, dtype: float64\n",
      "\n",
      "is null\n",
      "John      False\n",
      "Paul      False\n",
      "George    False\n",
      "Ringo      True\n",
      "Name: beattles songs by author, dtype: bool\n",
      "\n"
     ]
    }
   ],
   "source": [
    "# na / None handling\n",
    "beattles_songs_by_author = pd.Series([45,95,34,None], index= ['John', 'Paul', 'George', 'Ringo'], name='beattles songs by author')\n",
    "\n",
    "#drop na's\n",
    "print(beattles_songs_by_author.dropna())\n",
    "print()\n",
    "\n",
    "#replace na's with default\n",
    "print('NA replaced by negative one')\n",
    "print(beattles_songs_by_author.fillna(0))\n",
    "print()\n",
    "\n",
    "#get nulls as a bool array for filtering\n",
    "print('is null')\n",
    "print(beattles_songs_by_author.isnull())"
   ]
  },
  {
   "cell_type": "code",
   "execution_count": 18,
   "metadata": {},
   "outputs": [
    {
     "name": "stdout",
     "output_type": "stream",
     "text": [
      "George    45.0\n",
      "John      34.0\n",
      "Paul      95.0\n",
      "Ringo      NaN\n",
      "Name: beattles songs by author, dtype: float64\n",
      "\n",
      "Paul      95.0\n",
      "George    45.0\n",
      "John      34.0\n",
      "Ringo      NaN\n",
      "Name: beattles songs by author, dtype: float64\n"
     ]
    }
   ],
   "source": [
    "#sorting\n",
    "beattles_songs_by_author = pd.Series([34,95,45,None], index= ['John', 'Paul', 'George', 'Ringo'], name='beattles songs by author')\n",
    "\n",
    "print(beattles_songs_by_author.sort_index(ascending=True))\n",
    "print()\n",
    "print(beattles_songs_by_author.sort_values(ascending=False))\n",
    "\n"
   ]
  },
  {
   "cell_type": "code",
   "execution_count": 26,
   "metadata": {},
   "outputs": [
    {
     "name": "stdout",
     "output_type": "stream",
     "text": [
      "        beattles songs by author\n",
      "Name                            \n",
      "John                        34.0\n",
      "Paul                        95.0\n",
      "George                      45.0\n",
      "Ringo                        NaN\n"
     ]
    }
   ],
   "source": [
    "#serializing to and from csv\n",
    "beattles_songs_by_author = pd.Series([34,95,45,None], index= ['John', 'Paul', 'George', 'Ringo'], name='beattles songs by author')\n",
    "\n",
    "with open('beattles.csv', 'w') as fout:\n",
    "\tbeattles_songs_by_author.to_csv(fout, header=True, index_label='Name')\n",
    "\t\n",
    "#we usually read in as a data frame not a Series\n",
    "with open('beattles.csv', 'r') as fin:\n",
    "    df = pd.read_csv(fin, index_col=0)\n",
    "print(df)"
   ]
  },
  {
   "cell_type": "code",
   "execution_count": null,
   "metadata": {},
   "outputs": [],
   "source": []
  }
 ],
 "metadata": {
  "kernelspec": {
   "display_name": "Python 3",
   "language": "python",
   "name": "python3"
  },
  "language_info": {
   "codemirror_mode": {
    "name": "ipython",
    "version": 3
   },
   "file_extension": ".py",
   "mimetype": "text/x-python",
   "name": "python",
   "nbconvert_exporter": "python",
   "pygments_lexer": "ipython3",
   "version": "3.10.10"
  }
 },
 "nbformat": 4,
 "nbformat_minor": 2
}
